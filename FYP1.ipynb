{
  "nbformat": 4,
  "nbformat_minor": 0,
  "metadata": {
    "colab": {
      "provenance": [],
      "history_visible": true,
      "mount_file_id": "1V4Oez8cBazKZ6xS9KIo2eWEv6L65k9pW",
      "authorship_tag": "ABX9TyNPwCKKmItT5GhaCGnD68dp",
      "include_colab_link": true
    },
    "kernelspec": {
      "name": "python3",
      "display_name": "Python 3"
    },
    "language_info": {
      "name": "python"
    }
  },
  "cells": [
    {
      "cell_type": "markdown",
      "metadata": {
        "id": "view-in-github",
        "colab_type": "text"
      },
      "source": [
        "<a href=\"https://colab.research.google.com/github/mehr037/skin_cancer/blob/master/FYP1.ipynb\" target=\"_parent\"><img src=\"https://colab.research.google.com/assets/colab-badge.svg\" alt=\"Open In Colab\"/></a>"
      ]
    },
    {
      "cell_type": "code",
      "execution_count": 2,
      "metadata": {
        "id": "o6LNVstcxyke"
      },
      "outputs": [],
      "source": [
        "from keras.models import Model, Sequential\n",
        "from keras.layers import Activation, Dense, BatchNormalization, concatenate, Dropout, Conv2D, Conv2DTranspose, MaxPooling2D, UpSampling2D, Input, Reshape\n",
        "from keras.callbacks import EarlyStopping\n",
        "from keras.layers.core import SpatialDropout2D\n",
        "from keras import backend as K\n",
        "from keras.optimizers import Adam\n",
        "import tensorflow as tf\n",
        "import numpy as np\n",
        "import pandas as pd\n",
        "import glob\n",
        "import PIL\n",
        "from PIL import Image\n",
        "import matplotlib.pyplot as plt\n",
        "import cv2\n",
        "%matplotlib inline\n",
        "\n",
        "from keras.preprocessing.image import ImageDataGenerator\n",
        "from sklearn.model_selection import train_test_split\n",
        "from warnings import filterwarnings\n",
        "\n",
        "filterwarnings('ignore')\n",
        "np.random.seed(101)"
      ]
    },
    {
      "cell_type": "code",
      "source": [
        "import re\n",
        "numbers = re.compile(r'(\\d+)')\n",
        "def numericalSort(value):\n",
        "    parts = numbers.split(value)\n",
        "    parts[1::2] = map(int, parts[1::2])\n",
        "    return parts"
      ],
      "metadata": {
        "id": "tEM8fFmWyC4N"
      },
      "execution_count": 3,
      "outputs": []
    },
    {
      "cell_type": "code",
      "source": [],
      "metadata": {
        "id": "JdBf4eX9yRpU"
      },
      "execution_count": 6,
      "outputs": []
    },
    {
      "cell_type": "code",
      "source": [
        "filelist_trainx = sorted(glob.glob('/content/drive/MyDrive/lyme disease.zip'), key=numericalSort)\n",
        "X_train = np.array([np.array(Image.open(fname)) for fname in filelist_trainx])\n",
        "\n",
        "filelist_trainy = sorted(glob.glob('../input/*/trainy/*.bmp'), key=numericalSort)\n",
        "Y_train = np.array([np.array(Image.open(fname)) for fname in filelist_trainy])"
      ],
      "metadata": {
        "id": "EvtBY9oPyMLp"
      },
      "execution_count": 4,
      "outputs": []
    }
  ]
}